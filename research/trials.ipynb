{
 "cells": [
  {
   "cell_type": "code",
   "execution_count": 2,
   "metadata": {},
   "outputs": [
    {
     "name": "stdout",
     "output_type": "stream",
     "text": [
      "hello\n"
     ]
    }
   ],
   "source": [
    "print(\"hello\")"
   ]
  },
  {
   "cell_type": "markdown",
   "metadata": {},
   "source": [
    "## dowload data from google drive"
   ]
  },
  {
   "cell_type": "code",
   "execution_count": 13,
   "metadata": {},
   "outputs": [],
   "source": [
    "url=\"https://drive.google.com/file/d/1Yy1aVnONOGdzsD4oVh_f08Znt-M21Gl6/view?usp=drive_link\"\n"
   ]
  },
  {
   "cell_type": "code",
   "execution_count": 15,
   "metadata": {},
   "outputs": [],
   "source": [
    "file_id=url.split(\"/\")[-2]"
   ]
  },
  {
   "cell_type": "code",
   "execution_count": 16,
   "metadata": {},
   "outputs": [
    {
     "name": "stderr",
     "output_type": "stream",
     "text": [
      "Downloading...\n",
      "From (original): https://drive.google.com/uc?export=download&id=15Fzq1rJ9rR_H4-nyng_NaMweof1BCMjX\n",
      "From (redirected): https://drive.google.com/uc?export=download&id=15Fzq1rJ9rR_H4-nyng_NaMweof1BCMjX&confirm=t&uuid=9e725c1f-f2c2-41dc-a5ca-f8fa32ea0413\n",
      "To: d:\\DATA SCIENCE\\Deep learning project\\cancer\\research\\blood_canner.zip\n",
      "100%|██████████| 107M/107M [00:45<00:00, 2.37MB/s] \n"
     ]
    },
    {
     "data": {
      "text/plain": [
       "'blood_canner.zip'"
      ]
     },
     "execution_count": 16,
     "metadata": {},
     "output_type": "execute_result"
    }
   ],
   "source": [
    "import gdown\n",
    "\n",
    "file_id = \"15Fzq1rJ9rR_H4-nyng_NaMweof1BCMjX\"  # Replace with the correct file ID\n",
    "url = f\"https://drive.google.com/uc?export=download&id={file_id}\"\n",
    "gdown.download(url, \"blood_canner.zip\", quiet=False)\n"
   ]
  },
  {
   "cell_type": "code",
   "execution_count": null,
   "metadata": {},
   "outputs": [],
   "source": [
    "import zipfile\n",
    "\n",
    "with open('artifacts/data_ingestion/data.zip', 'rb') as f:\n",
    "    if zipfile.is_zipfile(f):\n",
    "        print(\"This is a zip file.\")\n",
    "    else:\n",
    "        print(\"This is NOT a zip file.\")\n"
   ]
  }
 ],
 "metadata": {
  "kernelspec": {
   "display_name": "env",
   "language": "python",
   "name": "python3"
  },
  "language_info": {
   "codemirror_mode": {
    "name": "ipython",
    "version": 3
   },
   "file_extension": ".py",
   "mimetype": "text/x-python",
   "name": "python",
   "nbconvert_exporter": "python",
   "pygments_lexer": "ipython3",
   "version": "3.10.4"
  }
 },
 "nbformat": 4,
 "nbformat_minor": 2
}
